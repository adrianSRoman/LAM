{
 "cells": [
  {
   "cell_type": "code",
   "execution_count": 6,
   "id": "7178441c-d3bd-419e-af14-94696fb28080",
   "metadata": {},
   "outputs": [],
   "source": [
    "import os\n",
    "import sys\n",
    "import torch\n",
    "import librosa\n",
    "import numpy as np\n",
    "from scipy.io import wavfile\n",
    "import matplotlib.pyplot as plt\n",
    "\n",
    "# Get the current working directory\n",
    "current_dir = os.getcwd()\n",
    "\n",
    "# Assuming the structure is LAM/datasets, navigate to the parent directory (LAM)\n",
    "base_dir = os.path.dirname(current_dir)\n",
    "\n",
    "# Add the base directory (LAM) to the system path\n",
    "sys.path.insert(0, base_dir)\n",
    "\n",
    "from trainer.utils import draw_map, get_field\n",
    "from dataset.gen_dataset.gen_dataset import get_visibility_matrix\n"
   ]
  },
  {
   "cell_type": "markdown",
   "id": "0ade21f8",
   "metadata": {},
   "source": [
    "# METU RIRs\n",
    "Note: used for RIR selection (hover on rirs to define the RIR of interest)"
   ]
  },
  {
   "cell_type": "code",
   "execution_count": 7,
   "id": "76547439",
   "metadata": {},
   "outputs": [
    {
     "data": {
      "application/vnd.plotly.v1+json": {
       "config": {
        "plotlyServerURL": "https://plot.ly"
       },
       "data": [
        {
         "hoverinfo": "text",
         "marker": {
          "color": "red",
          "size": 5
         },
         "mode": "markers",
         "text": [
          "030",
          "020",
          "010",
          "000",
          "100",
          "200",
          "300",
          "400",
          "500",
          "600",
          "610",
          "620",
          "630",
          "640",
          "650",
          "660",
          "560",
          "460",
          "360",
          "260",
          "160",
          "060",
          "050",
          "040",
          "031",
          "021",
          "011",
          "001",
          "101",
          "201",
          "301",
          "401",
          "501",
          "601",
          "611",
          "621",
          "631",
          "641",
          "651",
          "661",
          "561",
          "461",
          "361",
          "261",
          "161",
          "061",
          "051",
          "041",
          "032",
          "022",
          "012",
          "002",
          "102",
          "202",
          "302",
          "402",
          "502",
          "602",
          "612",
          "622",
          "632",
          "642",
          "652",
          "662",
          "562",
          "462",
          "362",
          "262",
          "162",
          "062",
          "052",
          "042",
          "033",
          "023",
          "013",
          "003",
          "103",
          "203",
          "303",
          "403",
          "503",
          "603",
          "613",
          "623",
          "633",
          "643",
          "653",
          "663",
          "563",
          "463",
          "363",
          "263",
          "163",
          "063",
          "053",
          "043",
          "034",
          "024",
          "014",
          "004",
          "104",
          "204",
          "304",
          "404",
          "504",
          "604",
          "614",
          "624",
          "634",
          "644",
          "654",
          "664",
          "564",
          "464",
          "364",
          "264",
          "164",
          "064",
          "054",
          "044"
         ],
         "type": "scatter3d",
         "x": [
          1.5,
          1.5,
          1.5,
          1.5,
          1,
          0.5,
          0,
          -0.5,
          -1,
          -1.5,
          -1.5,
          -1.5,
          -1.5,
          -1.5,
          -1.5,
          -1.5,
          -1,
          -0.5,
          0,
          0.5,
          1,
          1.5,
          1.5,
          1.5,
          1.5,
          1.5,
          1.5,
          1.5,
          1,
          0.5,
          0,
          -0.5,
          -1,
          -1.5,
          -1.5,
          -1.5,
          -1.5,
          -1.5,
          -1.5,
          -1.5,
          -1,
          -0.5,
          0,
          0.5,
          1,
          1.5,
          1.5,
          1.5,
          1.5,
          1.5,
          1.5,
          1.5,
          1,
          0.5,
          0,
          -0.5,
          -1,
          -1.5,
          -1.5,
          -1.5,
          -1.5,
          -1.5,
          -1.5,
          -1.5,
          -1,
          -0.5,
          0,
          0.5,
          1,
          1.5,
          1.5,
          1.5,
          1.5,
          1.5,
          1.5,
          1.5,
          1,
          0.5,
          0,
          -0.5,
          -1,
          -1.5,
          -1.5,
          -1.5,
          -1.5,
          -1.5,
          -1.5,
          -1.5,
          -1,
          -0.5,
          0,
          0.5,
          1,
          1.5,
          1.5,
          1.5,
          1.5,
          1.5,
          1.5,
          1.5,
          1,
          0.5,
          0,
          -0.5,
          -1,
          -1.5,
          -1.5,
          -1.5,
          -1.5,
          -1.5,
          -1.5,
          -1.5,
          -1,
          -0.5,
          0,
          0.5,
          1,
          1.5,
          1.5,
          1.5
         ],
         "y": [
          0,
          0.5,
          1,
          1.5,
          1.5,
          1.5,
          1.5,
          1.5,
          1.5,
          1.5,
          1,
          0.5,
          0,
          -0.5,
          -1,
          -1.5,
          -1.5,
          -1.5,
          -1.5,
          -1.5,
          -1.5,
          -1.5,
          -1,
          -0.5,
          0,
          0.5,
          1,
          1.5,
          1.5,
          1.5,
          1.5,
          1.5,
          1.5,
          1.5,
          1,
          0.5,
          0,
          -0.5,
          -1,
          -1.5,
          -1.5,
          -1.5,
          -1.5,
          -1.5,
          -1.5,
          -1.5,
          -1,
          -0.5,
          0,
          0.5,
          1,
          1.5,
          1.5,
          1.5,
          1.5,
          1.5,
          1.5,
          1.5,
          1,
          0.5,
          0,
          -0.5,
          -1,
          -1.5,
          -1.5,
          -1.5,
          -1.5,
          -1.5,
          -1.5,
          -1.5,
          -1,
          -0.5,
          0,
          0.5,
          1,
          1.5,
          1.5,
          1.5,
          1.5,
          1.5,
          1.5,
          1.5,
          1,
          0.5,
          0,
          -0.5,
          -1,
          -1.5,
          -1.5,
          -1.5,
          -1.5,
          -1.5,
          -1.5,
          -1.5,
          -1,
          -0.5,
          0,
          0.5,
          1,
          1.5,
          1.5,
          1.5,
          1.5,
          1.5,
          1.5,
          1.5,
          1,
          0.5,
          0,
          -0.5,
          -1,
          -1.5,
          -1.5,
          -1.5,
          -1.5,
          -1.5,
          -1.5,
          -1.5,
          -1,
          -0.5
         ],
         "z": [
          0.9,
          0.9,
          0.9,
          0.9,
          0.9,
          0.9,
          0.9,
          0.9,
          0.9,
          0.9,
          0.9,
          0.9,
          0.9,
          0.9,
          0.9,
          0.9,
          0.9,
          0.9,
          0.9,
          0.9,
          0.9,
          0.9,
          0.9,
          0.9,
          1.2,
          1.2,
          1.2,
          1.2,
          1.2,
          1.2,
          1.2,
          1.2,
          1.2,
          1.2,
          1.2,
          1.2,
          1.2,
          1.2,
          1.2,
          1.2,
          1.2,
          1.2,
          1.2,
          1.2,
          1.2,
          1.2,
          1.2,
          1.2,
          1.5,
          1.5,
          1.5,
          1.5,
          1.5,
          1.5,
          1.5,
          1.5,
          1.5,
          1.5,
          1.5,
          1.5,
          1.5,
          1.5,
          1.5,
          1.5,
          1.5,
          1.5,
          1.5,
          1.5,
          1.5,
          1.5,
          1.5,
          1.5,
          1.8,
          1.8,
          1.8,
          1.8,
          1.8,
          1.8,
          1.8,
          1.8,
          1.8,
          1.8,
          1.8,
          1.8,
          1.8,
          1.8,
          1.8,
          1.8,
          1.8,
          1.8,
          1.8,
          1.8,
          1.8,
          1.8,
          1.8,
          1.8,
          2.1,
          2.1,
          2.1,
          2.1,
          2.1,
          2.1,
          2.1,
          2.1,
          2.1,
          2.1,
          2.1,
          2.1,
          2.1,
          2.1,
          2.1,
          2.1,
          2.1,
          2.1,
          2.1,
          2.1,
          2.1,
          2.1,
          2.1,
          2.1
         ]
        }
       ],
       "layout": {
        "scene": {
         "xaxis": {
          "title": {
           "text": "X Coordinate"
          }
         },
         "yaxis": {
          "title": {
           "text": "Y Coordinate"
          }
         },
         "zaxis": {
          "title": {
           "text": "Z Coordinate"
          }
         }
        },
        "template": {
         "data": {
          "bar": [
           {
            "error_x": {
             "color": "#2a3f5f"
            },
            "error_y": {
             "color": "#2a3f5f"
            },
            "marker": {
             "line": {
              "color": "#E5ECF6",
              "width": 0.5
             },
             "pattern": {
              "fillmode": "overlay",
              "size": 10,
              "solidity": 0.2
             }
            },
            "type": "bar"
           }
          ],
          "barpolar": [
           {
            "marker": {
             "line": {
              "color": "#E5ECF6",
              "width": 0.5
             },
             "pattern": {
              "fillmode": "overlay",
              "size": 10,
              "solidity": 0.2
             }
            },
            "type": "barpolar"
           }
          ],
          "carpet": [
           {
            "aaxis": {
             "endlinecolor": "#2a3f5f",
             "gridcolor": "white",
             "linecolor": "white",
             "minorgridcolor": "white",
             "startlinecolor": "#2a3f5f"
            },
            "baxis": {
             "endlinecolor": "#2a3f5f",
             "gridcolor": "white",
             "linecolor": "white",
             "minorgridcolor": "white",
             "startlinecolor": "#2a3f5f"
            },
            "type": "carpet"
           }
          ],
          "choropleth": [
           {
            "colorbar": {
             "outlinewidth": 0,
             "ticks": ""
            },
            "type": "choropleth"
           }
          ],
          "contour": [
           {
            "colorbar": {
             "outlinewidth": 0,
             "ticks": ""
            },
            "colorscale": [
             [
              0,
              "#0d0887"
             ],
             [
              0.1111111111111111,
              "#46039f"
             ],
             [
              0.2222222222222222,
              "#7201a8"
             ],
             [
              0.3333333333333333,
              "#9c179e"
             ],
             [
              0.4444444444444444,
              "#bd3786"
             ],
             [
              0.5555555555555556,
              "#d8576b"
             ],
             [
              0.6666666666666666,
              "#ed7953"
             ],
             [
              0.7777777777777778,
              "#fb9f3a"
             ],
             [
              0.8888888888888888,
              "#fdca26"
             ],
             [
              1,
              "#f0f921"
             ]
            ],
            "type": "contour"
           }
          ],
          "contourcarpet": [
           {
            "colorbar": {
             "outlinewidth": 0,
             "ticks": ""
            },
            "type": "contourcarpet"
           }
          ],
          "heatmap": [
           {
            "colorbar": {
             "outlinewidth": 0,
             "ticks": ""
            },
            "colorscale": [
             [
              0,
              "#0d0887"
             ],
             [
              0.1111111111111111,
              "#46039f"
             ],
             [
              0.2222222222222222,
              "#7201a8"
             ],
             [
              0.3333333333333333,
              "#9c179e"
             ],
             [
              0.4444444444444444,
              "#bd3786"
             ],
             [
              0.5555555555555556,
              "#d8576b"
             ],
             [
              0.6666666666666666,
              "#ed7953"
             ],
             [
              0.7777777777777778,
              "#fb9f3a"
             ],
             [
              0.8888888888888888,
              "#fdca26"
             ],
             [
              1,
              "#f0f921"
             ]
            ],
            "type": "heatmap"
           }
          ],
          "heatmapgl": [
           {
            "colorbar": {
             "outlinewidth": 0,
             "ticks": ""
            },
            "colorscale": [
             [
              0,
              "#0d0887"
             ],
             [
              0.1111111111111111,
              "#46039f"
             ],
             [
              0.2222222222222222,
              "#7201a8"
             ],
             [
              0.3333333333333333,
              "#9c179e"
             ],
             [
              0.4444444444444444,
              "#bd3786"
             ],
             [
              0.5555555555555556,
              "#d8576b"
             ],
             [
              0.6666666666666666,
              "#ed7953"
             ],
             [
              0.7777777777777778,
              "#fb9f3a"
             ],
             [
              0.8888888888888888,
              "#fdca26"
             ],
             [
              1,
              "#f0f921"
             ]
            ],
            "type": "heatmapgl"
           }
          ],
          "histogram": [
           {
            "marker": {
             "pattern": {
              "fillmode": "overlay",
              "size": 10,
              "solidity": 0.2
             }
            },
            "type": "histogram"
           }
          ],
          "histogram2d": [
           {
            "colorbar": {
             "outlinewidth": 0,
             "ticks": ""
            },
            "colorscale": [
             [
              0,
              "#0d0887"
             ],
             [
              0.1111111111111111,
              "#46039f"
             ],
             [
              0.2222222222222222,
              "#7201a8"
             ],
             [
              0.3333333333333333,
              "#9c179e"
             ],
             [
              0.4444444444444444,
              "#bd3786"
             ],
             [
              0.5555555555555556,
              "#d8576b"
             ],
             [
              0.6666666666666666,
              "#ed7953"
             ],
             [
              0.7777777777777778,
              "#fb9f3a"
             ],
             [
              0.8888888888888888,
              "#fdca26"
             ],
             [
              1,
              "#f0f921"
             ]
            ],
            "type": "histogram2d"
           }
          ],
          "histogram2dcontour": [
           {
            "colorbar": {
             "outlinewidth": 0,
             "ticks": ""
            },
            "colorscale": [
             [
              0,
              "#0d0887"
             ],
             [
              0.1111111111111111,
              "#46039f"
             ],
             [
              0.2222222222222222,
              "#7201a8"
             ],
             [
              0.3333333333333333,
              "#9c179e"
             ],
             [
              0.4444444444444444,
              "#bd3786"
             ],
             [
              0.5555555555555556,
              "#d8576b"
             ],
             [
              0.6666666666666666,
              "#ed7953"
             ],
             [
              0.7777777777777778,
              "#fb9f3a"
             ],
             [
              0.8888888888888888,
              "#fdca26"
             ],
             [
              1,
              "#f0f921"
             ]
            ],
            "type": "histogram2dcontour"
           }
          ],
          "mesh3d": [
           {
            "colorbar": {
             "outlinewidth": 0,
             "ticks": ""
            },
            "type": "mesh3d"
           }
          ],
          "parcoords": [
           {
            "line": {
             "colorbar": {
              "outlinewidth": 0,
              "ticks": ""
             }
            },
            "type": "parcoords"
           }
          ],
          "pie": [
           {
            "automargin": true,
            "type": "pie"
           }
          ],
          "scatter": [
           {
            "fillpattern": {
             "fillmode": "overlay",
             "size": 10,
             "solidity": 0.2
            },
            "type": "scatter"
           }
          ],
          "scatter3d": [
           {
            "line": {
             "colorbar": {
              "outlinewidth": 0,
              "ticks": ""
             }
            },
            "marker": {
             "colorbar": {
              "outlinewidth": 0,
              "ticks": ""
             }
            },
            "type": "scatter3d"
           }
          ],
          "scattercarpet": [
           {
            "marker": {
             "colorbar": {
              "outlinewidth": 0,
              "ticks": ""
             }
            },
            "type": "scattercarpet"
           }
          ],
          "scattergeo": [
           {
            "marker": {
             "colorbar": {
              "outlinewidth": 0,
              "ticks": ""
             }
            },
            "type": "scattergeo"
           }
          ],
          "scattergl": [
           {
            "marker": {
             "colorbar": {
              "outlinewidth": 0,
              "ticks": ""
             }
            },
            "type": "scattergl"
           }
          ],
          "scattermapbox": [
           {
            "marker": {
             "colorbar": {
              "outlinewidth": 0,
              "ticks": ""
             }
            },
            "type": "scattermapbox"
           }
          ],
          "scatterpolar": [
           {
            "marker": {
             "colorbar": {
              "outlinewidth": 0,
              "ticks": ""
             }
            },
            "type": "scatterpolar"
           }
          ],
          "scatterpolargl": [
           {
            "marker": {
             "colorbar": {
              "outlinewidth": 0,
              "ticks": ""
             }
            },
            "type": "scatterpolargl"
           }
          ],
          "scatterternary": [
           {
            "marker": {
             "colorbar": {
              "outlinewidth": 0,
              "ticks": ""
             }
            },
            "type": "scatterternary"
           }
          ],
          "surface": [
           {
            "colorbar": {
             "outlinewidth": 0,
             "ticks": ""
            },
            "colorscale": [
             [
              0,
              "#0d0887"
             ],
             [
              0.1111111111111111,
              "#46039f"
             ],
             [
              0.2222222222222222,
              "#7201a8"
             ],
             [
              0.3333333333333333,
              "#9c179e"
             ],
             [
              0.4444444444444444,
              "#bd3786"
             ],
             [
              0.5555555555555556,
              "#d8576b"
             ],
             [
              0.6666666666666666,
              "#ed7953"
             ],
             [
              0.7777777777777778,
              "#fb9f3a"
             ],
             [
              0.8888888888888888,
              "#fdca26"
             ],
             [
              1,
              "#f0f921"
             ]
            ],
            "type": "surface"
           }
          ],
          "table": [
           {
            "cells": {
             "fill": {
              "color": "#EBF0F8"
             },
             "line": {
              "color": "white"
             }
            },
            "header": {
             "fill": {
              "color": "#C8D4E3"
             },
             "line": {
              "color": "white"
             }
            },
            "type": "table"
           }
          ]
         },
         "layout": {
          "annotationdefaults": {
           "arrowcolor": "#2a3f5f",
           "arrowhead": 0,
           "arrowwidth": 1
          },
          "autotypenumbers": "strict",
          "coloraxis": {
           "colorbar": {
            "outlinewidth": 0,
            "ticks": ""
           }
          },
          "colorscale": {
           "diverging": [
            [
             0,
             "#8e0152"
            ],
            [
             0.1,
             "#c51b7d"
            ],
            [
             0.2,
             "#de77ae"
            ],
            [
             0.3,
             "#f1b6da"
            ],
            [
             0.4,
             "#fde0ef"
            ],
            [
             0.5,
             "#f7f7f7"
            ],
            [
             0.6,
             "#e6f5d0"
            ],
            [
             0.7,
             "#b8e186"
            ],
            [
             0.8,
             "#7fbc41"
            ],
            [
             0.9,
             "#4d9221"
            ],
            [
             1,
             "#276419"
            ]
           ],
           "sequential": [
            [
             0,
             "#0d0887"
            ],
            [
             0.1111111111111111,
             "#46039f"
            ],
            [
             0.2222222222222222,
             "#7201a8"
            ],
            [
             0.3333333333333333,
             "#9c179e"
            ],
            [
             0.4444444444444444,
             "#bd3786"
            ],
            [
             0.5555555555555556,
             "#d8576b"
            ],
            [
             0.6666666666666666,
             "#ed7953"
            ],
            [
             0.7777777777777778,
             "#fb9f3a"
            ],
            [
             0.8888888888888888,
             "#fdca26"
            ],
            [
             1,
             "#f0f921"
            ]
           ],
           "sequentialminus": [
            [
             0,
             "#0d0887"
            ],
            [
             0.1111111111111111,
             "#46039f"
            ],
            [
             0.2222222222222222,
             "#7201a8"
            ],
            [
             0.3333333333333333,
             "#9c179e"
            ],
            [
             0.4444444444444444,
             "#bd3786"
            ],
            [
             0.5555555555555556,
             "#d8576b"
            ],
            [
             0.6666666666666666,
             "#ed7953"
            ],
            [
             0.7777777777777778,
             "#fb9f3a"
            ],
            [
             0.8888888888888888,
             "#fdca26"
            ],
            [
             1,
             "#f0f921"
            ]
           ]
          },
          "colorway": [
           "#636efa",
           "#EF553B",
           "#00cc96",
           "#ab63fa",
           "#FFA15A",
           "#19d3f3",
           "#FF6692",
           "#B6E880",
           "#FF97FF",
           "#FECB52"
          ],
          "font": {
           "color": "#2a3f5f"
          },
          "geo": {
           "bgcolor": "white",
           "lakecolor": "white",
           "landcolor": "#E5ECF6",
           "showlakes": true,
           "showland": true,
           "subunitcolor": "white"
          },
          "hoverlabel": {
           "align": "left"
          },
          "hovermode": "closest",
          "mapbox": {
           "style": "light"
          },
          "paper_bgcolor": "white",
          "plot_bgcolor": "#E5ECF6",
          "polar": {
           "angularaxis": {
            "gridcolor": "white",
            "linecolor": "white",
            "ticks": ""
           },
           "bgcolor": "#E5ECF6",
           "radialaxis": {
            "gridcolor": "white",
            "linecolor": "white",
            "ticks": ""
           }
          },
          "scene": {
           "xaxis": {
            "backgroundcolor": "#E5ECF6",
            "gridcolor": "white",
            "gridwidth": 2,
            "linecolor": "white",
            "showbackground": true,
            "ticks": "",
            "zerolinecolor": "white"
           },
           "yaxis": {
            "backgroundcolor": "#E5ECF6",
            "gridcolor": "white",
            "gridwidth": 2,
            "linecolor": "white",
            "showbackground": true,
            "ticks": "",
            "zerolinecolor": "white"
           },
           "zaxis": {
            "backgroundcolor": "#E5ECF6",
            "gridcolor": "white",
            "gridwidth": 2,
            "linecolor": "white",
            "showbackground": true,
            "ticks": "",
            "zerolinecolor": "white"
           }
          },
          "shapedefaults": {
           "line": {
            "color": "#2a3f5f"
           }
          },
          "ternary": {
           "aaxis": {
            "gridcolor": "white",
            "linecolor": "white",
            "ticks": ""
           },
           "baxis": {
            "gridcolor": "white",
            "linecolor": "white",
            "ticks": ""
           },
           "bgcolor": "#E5ECF6",
           "caxis": {
            "gridcolor": "white",
            "linecolor": "white",
            "ticks": ""
           }
          },
          "title": {
           "x": 0.05
          },
          "xaxis": {
           "automargin": true,
           "gridcolor": "white",
           "linecolor": "white",
           "ticks": "",
           "title": {
            "standoff": 15
           },
           "zerolinecolor": "white",
           "zerolinewidth": 2
          },
          "yaxis": {
           "automargin": true,
           "gridcolor": "white",
           "linecolor": "white",
           "ticks": "",
           "title": {
            "standoff": 15
           },
           "zerolinecolor": "white",
           "zerolinewidth": 2
          }
         }
        },
        "title": {
         "text": "3D Plot of Points in Room"
        }
       }
      },
      "text/html": [
       "<div>                            <div id=\"59a723d9-9ecd-446e-a5a8-6213f0609ed0\" class=\"plotly-graph-div\" style=\"height:525px; width:100%;\"></div>            <script type=\"text/javascript\">                require([\"plotly\"], function(Plotly) {                    window.PLOTLYENV=window.PLOTLYENV || {};                                    if (document.getElementById(\"59a723d9-9ecd-446e-a5a8-6213f0609ed0\")) {                    Plotly.newPlot(                        \"59a723d9-9ecd-446e-a5a8-6213f0609ed0\",                        [{\"hoverinfo\":\"text\",\"marker\":{\"color\":\"red\",\"size\":5},\"mode\":\"markers\",\"text\":[\"030\",\"020\",\"010\",\"000\",\"100\",\"200\",\"300\",\"400\",\"500\",\"600\",\"610\",\"620\",\"630\",\"640\",\"650\",\"660\",\"560\",\"460\",\"360\",\"260\",\"160\",\"060\",\"050\",\"040\",\"031\",\"021\",\"011\",\"001\",\"101\",\"201\",\"301\",\"401\",\"501\",\"601\",\"611\",\"621\",\"631\",\"641\",\"651\",\"661\",\"561\",\"461\",\"361\",\"261\",\"161\",\"061\",\"051\",\"041\",\"032\",\"022\",\"012\",\"002\",\"102\",\"202\",\"302\",\"402\",\"502\",\"602\",\"612\",\"622\",\"632\",\"642\",\"652\",\"662\",\"562\",\"462\",\"362\",\"262\",\"162\",\"062\",\"052\",\"042\",\"033\",\"023\",\"013\",\"003\",\"103\",\"203\",\"303\",\"403\",\"503\",\"603\",\"613\",\"623\",\"633\",\"643\",\"653\",\"663\",\"563\",\"463\",\"363\",\"263\",\"163\",\"063\",\"053\",\"043\",\"034\",\"024\",\"014\",\"004\",\"104\",\"204\",\"304\",\"404\",\"504\",\"604\",\"614\",\"624\",\"634\",\"644\",\"654\",\"664\",\"564\",\"464\",\"364\",\"264\",\"164\",\"064\",\"054\",\"044\"],\"x\":[1.5,1.5,1.5,1.5,1.0,0.5,0.0,-0.5,-1.0,-1.5,-1.5,-1.5,-1.5,-1.5,-1.5,-1.5,-1.0,-0.5,0.0,0.5,1.0,1.5,1.5,1.5,1.5,1.5,1.5,1.5,1.0,0.5,0.0,-0.5,-1.0,-1.5,-1.5,-1.5,-1.5,-1.5,-1.5,-1.5,-1.0,-0.5,0.0,0.5,1.0,1.5,1.5,1.5,1.5,1.5,1.5,1.5,1.0,0.5,0.0,-0.5,-1.0,-1.5,-1.5,-1.5,-1.5,-1.5,-1.5,-1.5,-1.0,-0.5,0.0,0.5,1.0,1.5,1.5,1.5,1.5,1.5,1.5,1.5,1.0,0.5,0.0,-0.5,-1.0,-1.5,-1.5,-1.5,-1.5,-1.5,-1.5,-1.5,-1.0,-0.5,0.0,0.5,1.0,1.5,1.5,1.5,1.5,1.5,1.5,1.5,1.0,0.5,0.0,-0.5,-1.0,-1.5,-1.5,-1.5,-1.5,-1.5,-1.5,-1.5,-1.0,-0.5,0.0,0.5,1.0,1.5,1.5,1.5],\"y\":[0.0,0.5,1.0,1.5,1.5,1.5,1.5,1.5,1.5,1.5,1.0,0.5,0.0,-0.5,-1.0,-1.5,-1.5,-1.5,-1.5,-1.5,-1.5,-1.5,-1.0,-0.5,0.0,0.5,1.0,1.5,1.5,1.5,1.5,1.5,1.5,1.5,1.0,0.5,0.0,-0.5,-1.0,-1.5,-1.5,-1.5,-1.5,-1.5,-1.5,-1.5,-1.0,-0.5,0.0,0.5,1.0,1.5,1.5,1.5,1.5,1.5,1.5,1.5,1.0,0.5,0.0,-0.5,-1.0,-1.5,-1.5,-1.5,-1.5,-1.5,-1.5,-1.5,-1.0,-0.5,0.0,0.5,1.0,1.5,1.5,1.5,1.5,1.5,1.5,1.5,1.0,0.5,0.0,-0.5,-1.0,-1.5,-1.5,-1.5,-1.5,-1.5,-1.5,-1.5,-1.0,-0.5,0.0,0.5,1.0,1.5,1.5,1.5,1.5,1.5,1.5,1.5,1.0,0.5,0.0,-0.5,-1.0,-1.5,-1.5,-1.5,-1.5,-1.5,-1.5,-1.5,-1.0,-0.5],\"z\":[0.9,0.9,0.9,0.9,0.9,0.9,0.9,0.9,0.9,0.9,0.9,0.9,0.9,0.9,0.9,0.9,0.9,0.9,0.9,0.9,0.9,0.9,0.9,0.9,1.2,1.2,1.2,1.2,1.2,1.2,1.2,1.2,1.2,1.2,1.2,1.2,1.2,1.2,1.2,1.2,1.2,1.2,1.2,1.2,1.2,1.2,1.2,1.2,1.5,1.5,1.5,1.5,1.5,1.5,1.5,1.5,1.5,1.5,1.5,1.5,1.5,1.5,1.5,1.5,1.5,1.5,1.5,1.5,1.5,1.5,1.5,1.5,1.8,1.8,1.8,1.8,1.8,1.8,1.8,1.8,1.8,1.8,1.8,1.8,1.8,1.8,1.8,1.8,1.8,1.8,1.8,1.8,1.8,1.8,1.8,1.8,2.1,2.1,2.1,2.1,2.1,2.1,2.1,2.1,2.1,2.1,2.1,2.1,2.1,2.1,2.1,2.1,2.1,2.1,2.1,2.1,2.1,2.1,2.1,2.1],\"type\":\"scatter3d\"}],                        {\"template\":{\"data\":{\"histogram2dcontour\":[{\"type\":\"histogram2dcontour\",\"colorbar\":{\"outlinewidth\":0,\"ticks\":\"\"},\"colorscale\":[[0.0,\"#0d0887\"],[0.1111111111111111,\"#46039f\"],[0.2222222222222222,\"#7201a8\"],[0.3333333333333333,\"#9c179e\"],[0.4444444444444444,\"#bd3786\"],[0.5555555555555556,\"#d8576b\"],[0.6666666666666666,\"#ed7953\"],[0.7777777777777778,\"#fb9f3a\"],[0.8888888888888888,\"#fdca26\"],[1.0,\"#f0f921\"]]}],\"choropleth\":[{\"type\":\"choropleth\",\"colorbar\":{\"outlinewidth\":0,\"ticks\":\"\"}}],\"histogram2d\":[{\"type\":\"histogram2d\",\"colorbar\":{\"outlinewidth\":0,\"ticks\":\"\"},\"colorscale\":[[0.0,\"#0d0887\"],[0.1111111111111111,\"#46039f\"],[0.2222222222222222,\"#7201a8\"],[0.3333333333333333,\"#9c179e\"],[0.4444444444444444,\"#bd3786\"],[0.5555555555555556,\"#d8576b\"],[0.6666666666666666,\"#ed7953\"],[0.7777777777777778,\"#fb9f3a\"],[0.8888888888888888,\"#fdca26\"],[1.0,\"#f0f921\"]]}],\"heatmap\":[{\"type\":\"heatmap\",\"colorbar\":{\"outlinewidth\":0,\"ticks\":\"\"},\"colorscale\":[[0.0,\"#0d0887\"],[0.1111111111111111,\"#46039f\"],[0.2222222222222222,\"#7201a8\"],[0.3333333333333333,\"#9c179e\"],[0.4444444444444444,\"#bd3786\"],[0.5555555555555556,\"#d8576b\"],[0.6666666666666666,\"#ed7953\"],[0.7777777777777778,\"#fb9f3a\"],[0.8888888888888888,\"#fdca26\"],[1.0,\"#f0f921\"]]}],\"heatmapgl\":[{\"type\":\"heatmapgl\",\"colorbar\":{\"outlinewidth\":0,\"ticks\":\"\"},\"colorscale\":[[0.0,\"#0d0887\"],[0.1111111111111111,\"#46039f\"],[0.2222222222222222,\"#7201a8\"],[0.3333333333333333,\"#9c179e\"],[0.4444444444444444,\"#bd3786\"],[0.5555555555555556,\"#d8576b\"],[0.6666666666666666,\"#ed7953\"],[0.7777777777777778,\"#fb9f3a\"],[0.8888888888888888,\"#fdca26\"],[1.0,\"#f0f921\"]]}],\"contourcarpet\":[{\"type\":\"contourcarpet\",\"colorbar\":{\"outlinewidth\":0,\"ticks\":\"\"}}],\"contour\":[{\"type\":\"contour\",\"colorbar\":{\"outlinewidth\":0,\"ticks\":\"\"},\"colorscale\":[[0.0,\"#0d0887\"],[0.1111111111111111,\"#46039f\"],[0.2222222222222222,\"#7201a8\"],[0.3333333333333333,\"#9c179e\"],[0.4444444444444444,\"#bd3786\"],[0.5555555555555556,\"#d8576b\"],[0.6666666666666666,\"#ed7953\"],[0.7777777777777778,\"#fb9f3a\"],[0.8888888888888888,\"#fdca26\"],[1.0,\"#f0f921\"]]}],\"surface\":[{\"type\":\"surface\",\"colorbar\":{\"outlinewidth\":0,\"ticks\":\"\"},\"colorscale\":[[0.0,\"#0d0887\"],[0.1111111111111111,\"#46039f\"],[0.2222222222222222,\"#7201a8\"],[0.3333333333333333,\"#9c179e\"],[0.4444444444444444,\"#bd3786\"],[0.5555555555555556,\"#d8576b\"],[0.6666666666666666,\"#ed7953\"],[0.7777777777777778,\"#fb9f3a\"],[0.8888888888888888,\"#fdca26\"],[1.0,\"#f0f921\"]]}],\"mesh3d\":[{\"type\":\"mesh3d\",\"colorbar\":{\"outlinewidth\":0,\"ticks\":\"\"}}],\"scatter\":[{\"fillpattern\":{\"fillmode\":\"overlay\",\"size\":10,\"solidity\":0.2},\"type\":\"scatter\"}],\"parcoords\":[{\"type\":\"parcoords\",\"line\":{\"colorbar\":{\"outlinewidth\":0,\"ticks\":\"\"}}}],\"scatterpolargl\":[{\"type\":\"scatterpolargl\",\"marker\":{\"colorbar\":{\"outlinewidth\":0,\"ticks\":\"\"}}}],\"bar\":[{\"error_x\":{\"color\":\"#2a3f5f\"},\"error_y\":{\"color\":\"#2a3f5f\"},\"marker\":{\"line\":{\"color\":\"#E5ECF6\",\"width\":0.5},\"pattern\":{\"fillmode\":\"overlay\",\"size\":10,\"solidity\":0.2}},\"type\":\"bar\"}],\"scattergeo\":[{\"type\":\"scattergeo\",\"marker\":{\"colorbar\":{\"outlinewidth\":0,\"ticks\":\"\"}}}],\"scatterpolar\":[{\"type\":\"scatterpolar\",\"marker\":{\"colorbar\":{\"outlinewidth\":0,\"ticks\":\"\"}}}],\"histogram\":[{\"marker\":{\"pattern\":{\"fillmode\":\"overlay\",\"size\":10,\"solidity\":0.2}},\"type\":\"histogram\"}],\"scattergl\":[{\"type\":\"scattergl\",\"marker\":{\"colorbar\":{\"outlinewidth\":0,\"ticks\":\"\"}}}],\"scatter3d\":[{\"type\":\"scatter3d\",\"line\":{\"colorbar\":{\"outlinewidth\":0,\"ticks\":\"\"}},\"marker\":{\"colorbar\":{\"outlinewidth\":0,\"ticks\":\"\"}}}],\"scattermapbox\":[{\"type\":\"scattermapbox\",\"marker\":{\"colorbar\":{\"outlinewidth\":0,\"ticks\":\"\"}}}],\"scatterternary\":[{\"type\":\"scatterternary\",\"marker\":{\"colorbar\":{\"outlinewidth\":0,\"ticks\":\"\"}}}],\"scattercarpet\":[{\"type\":\"scattercarpet\",\"marker\":{\"colorbar\":{\"outlinewidth\":0,\"ticks\":\"\"}}}],\"carpet\":[{\"aaxis\":{\"endlinecolor\":\"#2a3f5f\",\"gridcolor\":\"white\",\"linecolor\":\"white\",\"minorgridcolor\":\"white\",\"startlinecolor\":\"#2a3f5f\"},\"baxis\":{\"endlinecolor\":\"#2a3f5f\",\"gridcolor\":\"white\",\"linecolor\":\"white\",\"minorgridcolor\":\"white\",\"startlinecolor\":\"#2a3f5f\"},\"type\":\"carpet\"}],\"table\":[{\"cells\":{\"fill\":{\"color\":\"#EBF0F8\"},\"line\":{\"color\":\"white\"}},\"header\":{\"fill\":{\"color\":\"#C8D4E3\"},\"line\":{\"color\":\"white\"}},\"type\":\"table\"}],\"barpolar\":[{\"marker\":{\"line\":{\"color\":\"#E5ECF6\",\"width\":0.5},\"pattern\":{\"fillmode\":\"overlay\",\"size\":10,\"solidity\":0.2}},\"type\":\"barpolar\"}],\"pie\":[{\"automargin\":true,\"type\":\"pie\"}]},\"layout\":{\"autotypenumbers\":\"strict\",\"colorway\":[\"#636efa\",\"#EF553B\",\"#00cc96\",\"#ab63fa\",\"#FFA15A\",\"#19d3f3\",\"#FF6692\",\"#B6E880\",\"#FF97FF\",\"#FECB52\"],\"font\":{\"color\":\"#2a3f5f\"},\"hovermode\":\"closest\",\"hoverlabel\":{\"align\":\"left\"},\"paper_bgcolor\":\"white\",\"plot_bgcolor\":\"#E5ECF6\",\"polar\":{\"bgcolor\":\"#E5ECF6\",\"angularaxis\":{\"gridcolor\":\"white\",\"linecolor\":\"white\",\"ticks\":\"\"},\"radialaxis\":{\"gridcolor\":\"white\",\"linecolor\":\"white\",\"ticks\":\"\"}},\"ternary\":{\"bgcolor\":\"#E5ECF6\",\"aaxis\":{\"gridcolor\":\"white\",\"linecolor\":\"white\",\"ticks\":\"\"},\"baxis\":{\"gridcolor\":\"white\",\"linecolor\":\"white\",\"ticks\":\"\"},\"caxis\":{\"gridcolor\":\"white\",\"linecolor\":\"white\",\"ticks\":\"\"}},\"coloraxis\":{\"colorbar\":{\"outlinewidth\":0,\"ticks\":\"\"}},\"colorscale\":{\"sequential\":[[0.0,\"#0d0887\"],[0.1111111111111111,\"#46039f\"],[0.2222222222222222,\"#7201a8\"],[0.3333333333333333,\"#9c179e\"],[0.4444444444444444,\"#bd3786\"],[0.5555555555555556,\"#d8576b\"],[0.6666666666666666,\"#ed7953\"],[0.7777777777777778,\"#fb9f3a\"],[0.8888888888888888,\"#fdca26\"],[1.0,\"#f0f921\"]],\"sequentialminus\":[[0.0,\"#0d0887\"],[0.1111111111111111,\"#46039f\"],[0.2222222222222222,\"#7201a8\"],[0.3333333333333333,\"#9c179e\"],[0.4444444444444444,\"#bd3786\"],[0.5555555555555556,\"#d8576b\"],[0.6666666666666666,\"#ed7953\"],[0.7777777777777778,\"#fb9f3a\"],[0.8888888888888888,\"#fdca26\"],[1.0,\"#f0f921\"]],\"diverging\":[[0,\"#8e0152\"],[0.1,\"#c51b7d\"],[0.2,\"#de77ae\"],[0.3,\"#f1b6da\"],[0.4,\"#fde0ef\"],[0.5,\"#f7f7f7\"],[0.6,\"#e6f5d0\"],[0.7,\"#b8e186\"],[0.8,\"#7fbc41\"],[0.9,\"#4d9221\"],[1,\"#276419\"]]},\"xaxis\":{\"gridcolor\":\"white\",\"linecolor\":\"white\",\"ticks\":\"\",\"title\":{\"standoff\":15},\"zerolinecolor\":\"white\",\"automargin\":true,\"zerolinewidth\":2},\"yaxis\":{\"gridcolor\":\"white\",\"linecolor\":\"white\",\"ticks\":\"\",\"title\":{\"standoff\":15},\"zerolinecolor\":\"white\",\"automargin\":true,\"zerolinewidth\":2},\"scene\":{\"xaxis\":{\"backgroundcolor\":\"#E5ECF6\",\"gridcolor\":\"white\",\"linecolor\":\"white\",\"showbackground\":true,\"ticks\":\"\",\"zerolinecolor\":\"white\",\"gridwidth\":2},\"yaxis\":{\"backgroundcolor\":\"#E5ECF6\",\"gridcolor\":\"white\",\"linecolor\":\"white\",\"showbackground\":true,\"ticks\":\"\",\"zerolinecolor\":\"white\",\"gridwidth\":2},\"zaxis\":{\"backgroundcolor\":\"#E5ECF6\",\"gridcolor\":\"white\",\"linecolor\":\"white\",\"showbackground\":true,\"ticks\":\"\",\"zerolinecolor\":\"white\",\"gridwidth\":2}},\"shapedefaults\":{\"line\":{\"color\":\"#2a3f5f\"}},\"annotationdefaults\":{\"arrowcolor\":\"#2a3f5f\",\"arrowhead\":0,\"arrowwidth\":1},\"geo\":{\"bgcolor\":\"white\",\"landcolor\":\"#E5ECF6\",\"subunitcolor\":\"white\",\"showland\":true,\"showlakes\":true,\"lakecolor\":\"white\"},\"title\":{\"x\":0.05},\"mapbox\":{\"style\":\"light\"}}},\"scene\":{\"xaxis\":{\"title\":{\"text\":\"X Coordinate\"}},\"yaxis\":{\"title\":{\"text\":\"Y Coordinate\"}},\"zaxis\":{\"title\":{\"text\":\"Z Coordinate\"}}},\"title\":{\"text\":\"3D Plot of Points in Room\"}},                        {\"responsive\": true}                    ).then(function(){\n",
       "                            \n",
       "var gd = document.getElementById('59a723d9-9ecd-446e-a5a8-6213f0609ed0');\n",
       "var x = new MutationObserver(function (mutations, observer) {{\n",
       "        var display = window.getComputedStyle(gd).display;\n",
       "        if (!display || display === 'none') {{\n",
       "            console.log([gd, 'removed!']);\n",
       "            Plotly.purge(gd);\n",
       "            observer.disconnect();\n",
       "        }}\n",
       "}});\n",
       "\n",
       "// Listen for the removal of the full notebook cells\n",
       "var notebookContainer = gd.closest('#notebook-container');\n",
       "if (notebookContainer) {{\n",
       "    x.observe(notebookContainer, {childList: true});\n",
       "}}\n",
       "\n",
       "// Listen for the clearing of the current output cell\n",
       "var outputEl = gd.closest('.output');\n",
       "if (outputEl) {{\n",
       "    x.observe(outputEl, {childList: true});\n",
       "}}\n",
       "\n",
       "                        })                };                });            </script>        </div>"
      ]
     },
     "metadata": {},
     "output_type": "display_data"
    }
   ],
   "source": [
    "import math \n",
    "import plotly.graph_objects as go\n",
    "\n",
    "def az_ele_from_source(ref_point, src_point):\n",
    "    \"\"\"\n",
    "    Calculates the azimuth and elevation between a reference point and a source point in 3D space.\n",
    "    Args:\n",
    "    ref_point (list): A list of three floats representing the x, y, and z coordinates of the reference point.\n",
    "    src_point (list): A list of three floats representing the x, y, and z coordinates of the other point.\n",
    "    Returns:\n",
    "    A tuple of two floats representing the azimuth and elevation angles in degrees plus the distance between the reference and source points.\n",
    "    \"\"\"\n",
    "    dx = src_point[0] - ref_point[0]\n",
    "    dy = src_point[1] - ref_point[1]\n",
    "    dz = src_point[2] - ref_point[2]\n",
    "\n",
    "    azimuth = math.degrees(math.atan2(dy, dx))\n",
    "    distance = math.sqrt(dx ** 2 + dy ** 2 + dz ** 2)\n",
    "    elevation = math.degrees(math.asin(dz / distance))\n",
    "    return azimuth, elevation, distance\n",
    "\n",
    "def get_mic_xyz():\n",
    "  \"\"\"\n",
    "  Get em32 microphone coordinates in 3D space\n",
    "  \"\"\"\n",
    "  return [(3 - 3) * 0.5, (3 - 3) * 0.5, (2 - 2) * 0.3 + 1.5]\n",
    "\n",
    "def plot_points_in_room(source_coords, labels):\n",
    "    # Extract x, y, z coordinates\n",
    "    x_coords = [coord[0] for coord in source_coords]\n",
    "    y_coords = [coord[1] for coord in source_coords]\n",
    "    z_coords = [coord[2] for coord in source_coords]\n",
    "\n",
    "    # Create a 3D scatter plot\n",
    "    fig = go.Figure(data=[go.Scatter3d(\n",
    "        x=x_coords, \n",
    "        y=y_coords, \n",
    "        z=z_coords, \n",
    "        mode='markers',\n",
    "        marker=dict(size=5, color='red'),\n",
    "        text=labels,  # Add labels to hover data\n",
    "        hoverinfo='text'\n",
    "    )])\n",
    "\n",
    "    # Set plot labels\n",
    "    fig.update_layout(\n",
    "        scene=dict(\n",
    "            xaxis_title='X Coordinate',\n",
    "            yaxis_title='Y Coordinate',\n",
    "            zaxis_title='Z Coordinate'\n",
    "        ),\n",
    "        title='3D Plot of Points in Room'\n",
    "    )\n",
    "\n",
    "    fig.show()\n",
    "\n",
    "# Reference METU outter trajectory:  bottom outter trajectory\n",
    "REF_OUT_TRAJ = [\"034\", \"024\", \"014\", \"004\", \"104\", \"204\",\n",
    "                        \"304\", \"404\", \"504\", \"604\", \"614\", \"624\",\n",
    "                        \"634\", \"644\", \"654\", \"664\", \"564\", \"464\",\n",
    "                        \"364\", \"264\", \"164\", \"064\", \"054\", \"044\"]\n",
    "\n",
    "top_height = 5\n",
    "source_coords, rirs = [], []\n",
    "sources_xyz = []\n",
    "mic_xyz = get_mic_xyz()\n",
    "\n",
    "labels = [f\"{num[0]}{num[1]}{str(4-(int(num[2])-height))}\" for height in range(top_height) for num in REF_OUT_TRAJ]\n",
    "\n",
    "rir_id = 0\n",
    "# Outter trajectory: bottom to top\n",
    "for height in range(0, top_height):\n",
    "    for num in REF_OUT_TRAJ:\n",
    "        # Coords computed based on documentation.pdf from METU Sparg\n",
    "        x = (3 - int(num[0])) * 0.5\n",
    "        y = (3 - int(num[1])) * 0.5\n",
    "        z = (2 - (int(num[2])-height)) * 0.3 + 1.5\n",
    "        source_xyz = [x, y, z] # note -1 since METU is flipped up-side-down\n",
    "        sources_xyz.append((x, y, z))\n",
    "        azim, elev, _ = az_ele_from_source(mic_xyz, source_xyz)\n",
    "        elev *= -1 # Account for elevation being swapped in METU\n",
    "        source_coords.append((rir_id, azim, elev))\n",
    "\n",
    "plot_points_in_room(sources_xyz, labels)\n"
   ]
  },
  {
   "cell_type": "markdown",
   "id": "fb7b835c",
   "metadata": {},
   "source": [
    "# Spatialize Audio on a set of METU RIRs"
   ]
  },
  {
   "cell_type": "code",
   "execution_count": 86,
   "id": "eeeb52de",
   "metadata": {},
   "outputs": [],
   "source": [
    "METU_DATASET = \"/scratch/ssd1/RIR_datasets/spargair/em32/\"\n",
    "rirs_list = [\"363\", \"063\"] #\"362\", \"262\"]\n",
    "aud_fmt = \"em32\" # audio format: em32, mic\n",
    "FS = 24000 # sampling rate\n",
    "duration = 2 # sythesis duration\n",
    "num_chans = 32 # get number of channels from RIR\n",
    "\n",
    "conv_sig = np.zeros((FS * duration, num_chans))\n",
    "\n",
    "for rir_tokens in rirs_list:\n",
    "    rir_name = rir_tokens[0] + rir_tokens[1] + rir_tokens[2]\n",
    "    ir_path = os.path.join(METU_DATASET, rir_name, f\"IR_{aud_fmt}.wav\")\n",
    "    irdata, sr = librosa.load(ir_path, mono=False, sr=FS)\n",
    "    \n",
    "    rir_sig = irdata.T\n",
    "    \n",
    "    noise = np.random.normal(0, 1, FS * duration) # generate noise\n",
    "    \n",
    "    for ichan in range(num_chans):\n",
    "        conv_sig[:, ichan] += np.convolve(noise, rir_sig[:FS, ichan], mode='same')\n",
    "    "
   ]
  },
  {
   "cell_type": "markdown",
   "id": "f923921c",
   "metadata": {},
   "source": [
    "# Generate visibility matrix from audio "
   ]
  },
  {
   "cell_type": "code",
   "execution_count": 87,
   "id": "e0ea73e6",
   "metadata": {},
   "outputs": [],
   "source": [
    "clip_name = \"/scratch/data/repos/LAM/dataset/simulated/arni_eval_output_vardur_poly2_maxdur2s/095_polyphony2_8_146_0_8_18_21.wav\"\n",
    "T_sti = 10e-3 # 100ms audio frames\n",
    "# fs, eigen_sig = wavfile.read(clip_name)\n",
    "# print(eigen_sig.shape)\n",
    "vsg_sig, apgd = get_visibility_matrix(conv_sig, FS, apgd=True, bands=[3], T_sti=T_sti) # visibility graph matrix 32ch "
   ]
  },
  {
   "cell_type": "code",
   "execution_count": 77,
   "id": "05ebd9a7",
   "metadata": {},
   "outputs": [
    {
     "name": "stdout",
     "output_type": "stream",
     "text": [
      "(20, 484)\n"
     ]
    }
   ],
   "source": [
    "# APGD Map Dimensions (axis, num_frames, num_pixels)\n",
    "print(apgd[0, ].shape)"
   ]
  },
  {
   "cell_type": "markdown",
   "id": "be6c253d",
   "metadata": {},
   "source": [
    "# Generate acoustic map visualization"
   ]
  },
  {
   "cell_type": "code",
   "execution_count": 88,
   "id": "852111be-2c81-4458-9ac8-d9b1a9215a56",
   "metadata": {},
   "outputs": [
    {
     "data": {
      "image/png": "[encoded data removed]",
      "text/plain": [
       "<Figure size 1000x500 with 1 Axes>"
      ]
     },
     "metadata": {},
     "output_type": "display_data"
    }
   ],
   "source": [
    "fig, ax = plt.subplots(1, 1, figsize=(10, 5))\n",
    "R_field = get_field()\n",
    "arg_lonticks = np.linspace(-180, 180, 5)\n",
    "apgd_map = np.abs(apgd[0, 0])\n",
    "apgd_map /= apgd_map.max()\n",
    "apgd_map = np.tile(apgd_map, (3, 1))\n",
    "fig2, ax2, triangulation2 = draw_map(apgd_map, R_field,\n",
    "        lon_ticks=arg_lonticks,\n",
    "        catalog=None,\n",
    "        show_labels=True,\n",
    "        show_axis=True,\n",
    "        fig=fig,\n",
    "        ax=ax)"
   ]
  },
  {
   "cell_type": "code",
   "execution_count": null,
   "id": "a91f9936",
   "metadata": {},
   "outputs": [],
   "source": []
  }
 ],
 "metadata": {
  "kernelspec": {
   "display_name": "Python 3 (ipykernel)",
   "language": "python",
   "name": "python3"
  },
  "language_info": {
   "codemirror_mode": {
    "name": "ipython",
    "version": 3
   },
   "file_extension": ".py",
   "mimetype": "text/x-python",
   "name": "python",
   "nbconvert_exporter": "python",
   "pygments_lexer": "ipython3",
   "version": "3.8.10"
  }
 },
 "nbformat": 4,
 "nbformat_minor": 5
}
